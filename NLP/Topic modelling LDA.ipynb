{
 "cells": [
  {
   "cell_type": "code",
   "execution_count": 2,
   "metadata": {},
   "outputs": [],
   "source": [
    "# Import required libraries\n",
    "import gensim\n",
    "from gensim import corpora\n"
   ]
  },
  {
   "cell_type": "code",
   "execution_count": 3,
   "metadata": {},
   "outputs": [],
   "source": [
    "\n",
    "# Load the corpus\n",
    "documents = [\n",
    "    \"This is the first document.\",\n",
    "    \"This document is the second document.\", \n",
    "    \"And this is the third one.\",\n",
    "    \"Is this the first document?\"\n",
    "    ]\n"
   ]
  },
  {
   "cell_type": "code",
   "execution_count": 4,
   "metadata": {},
   "outputs": [
    {
     "name": "stdout",
     "output_type": "stream",
     "text": [
      "[['this', 'is', 'the', 'first', 'document.'], ['this', 'document', 'is', 'the', 'second', 'document.'], ['and', 'this', 'is', 'the', 'third', 'one.'], ['is', 'this', 'the', 'first', 'document?']]\n"
     ]
    }
   ],
   "source": [
    "\n",
    "# Preprocess the data\n",
    "text_data = []\n",
    "for document in documents:\n",
    "    text_data.append(document.lower().split())\n",
    "print(text_data)"
   ]
  },
  {
   "cell_type": "code",
   "execution_count": 8,
   "metadata": {},
   "outputs": [
    {
     "name": "stdout",
     "output_type": "stream",
     "text": [
      "[(0, 1), (1, 1), (2, 1), (3, 1), (4, 1)]\n",
      "[(0, 1), (2, 1), (3, 1), (4, 1), (5, 1), (6, 1)]\n",
      "[(2, 1), (3, 1), (4, 1), (7, 1), (8, 1), (9, 1)]\n",
      "[(1, 1), (2, 1), (3, 1), (4, 1), (10, 1)]\n"
     ]
    }
   ],
   "source": [
    "\n",
    "# Create a dictionary from the preprocessed data\n",
    "dictionary = corpora.Dictionary(text_data)\n",
    "\n",
    "# Create a document-term matrix from the dictionary\n",
    "corpus = [dictionary.doc2bow(text) for text in text_data]\n",
    "for corp in corpus:\n",
    "    print(corp)"
   ]
  },
  {
   "cell_type": "code",
   "execution_count": 11,
   "metadata": {},
   "outputs": [],
   "source": [
    "\n",
    "# Train the LDA model\n",
    "num_topics = 8\n",
    "lda_model = gensim.models.ldamodel.LdaModel(\n",
    "    corpus=corpus, \n",
    "    id2word=dictionary,\n",
    "    num_topics=num_topics,\n",
    "    random_state=100,\n",
    "    update_every=1,\n",
    "    chunksize=100,\n",
    "    passes=10,\n",
    "    alpha='auto',\n",
    "    per_word_topics=True\n",
    "    )\n"
   ]
  },
  {
   "cell_type": "code",
   "execution_count": 12,
   "metadata": {},
   "outputs": [
    {
     "name": "stdout",
     "output_type": "stream",
     "text": [
      "Topic: 0 \n",
      "Words: 0.172*\"is\" + 0.172*\"the\" + 0.172*\"this\" + 0.091*\"document.\" + 0.091*\"first\" + 0.091*\"document\" + 0.091*\"second\" + 0.091*\"document?\" + 0.010*\"one.\" + 0.010*\"third\"\n",
      "Topic: 1 \n",
      "Words: 0.091*\"is\" + 0.091*\"this\" + 0.091*\"the\" + 0.091*\"first\" + 0.091*\"document.\" + 0.091*\"one.\" + 0.091*\"second\" + 0.091*\"third\" + 0.091*\"document?\" + 0.091*\"document\"\n",
      "Topic: 2 \n",
      "Words: 0.091*\"is\" + 0.091*\"this\" + 0.091*\"the\" + 0.091*\"document.\" + 0.091*\"first\" + 0.091*\"document?\" + 0.091*\"document\" + 0.091*\"one.\" + 0.091*\"third\" + 0.091*\"second\"\n",
      "Topic: 3 \n",
      "Words: 0.153*\"and\" + 0.153*\"third\" + 0.153*\"one.\" + 0.152*\"this\" + 0.152*\"the\" + 0.152*\"is\" + 0.017*\"first\" + 0.017*\"document.\" + 0.017*\"second\" + 0.017*\"document?\"\n",
      "Topic: 4 \n",
      "Words: 0.091*\"is\" + 0.091*\"the\" + 0.091*\"this\" + 0.091*\"first\" + 0.091*\"document.\" + 0.091*\"second\" + 0.091*\"one.\" + 0.091*\"document?\" + 0.091*\"third\" + 0.091*\"document\"\n",
      "Topic: 5 \n",
      "Words: 0.177*\"first\" + 0.177*\"document.\" + 0.176*\"the\" + 0.176*\"this\" + 0.176*\"is\" + 0.020*\"document?\" + 0.020*\"third\" + 0.020*\"document\" + 0.020*\"second\" + 0.020*\"one.\"\n",
      "Topic: 6 \n",
      "Words: 0.091*\"this\" + 0.091*\"is\" + 0.091*\"first\" + 0.091*\"the\" + 0.091*\"document.\" + 0.091*\"second\" + 0.091*\"document\" + 0.091*\"document?\" + 0.091*\"one.\" + 0.091*\"third\"\n",
      "Topic: 7 \n",
      "Words: 0.091*\"the\" + 0.091*\"is\" + 0.091*\"this\" + 0.091*\"document.\" + 0.091*\"first\" + 0.091*\"second\" + 0.091*\"document?\" + 0.091*\"and\" + 0.091*\"one.\" + 0.091*\"document\"\n"
     ]
    },
    {
     "ename": "",
     "evalue": "",
     "output_type": "error",
     "traceback": [
      "\u001b[1;31mThe Kernel crashed while executing code in the the current cell or a previous cell. Please review the code in the cell(s) to identify a possible cause of the failure. Click <a href='https://aka.ms/vscodeJupyterKernelCrash'>here</a> for more info. View Jupyter <a href='command:jupyter.viewOutput'>log</a> for further details."
     ]
    }
   ],
   "source": [
    "\n",
    "# Print the topics\n",
    "for idx, topic in lda_model.print_topics(-1):\n",
    "    print('Topic: {} \\nWords: {}'.format(idx, topic))\n"
   ]
  },
  {
   "cell_type": "code",
   "execution_count": null,
   "metadata": {},
   "outputs": [],
   "source": []
  }
 ],
 "metadata": {
  "kernelspec": {
   "display_name": "Python 3",
   "language": "python",
   "name": "python3"
  },
  "language_info": {
   "codemirror_mode": {
    "name": "ipython",
    "version": 3
   },
   "file_extension": ".py",
   "mimetype": "text/x-python",
   "name": "python",
   "nbconvert_exporter": "python",
   "pygments_lexer": "ipython3",
   "version": "3.10.10"
  },
  "orig_nbformat": 4
 },
 "nbformat": 4,
 "nbformat_minor": 2
}
